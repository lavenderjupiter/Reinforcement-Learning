{
 "cells": [
  {
   "cell_type": "code",
   "execution_count": 2,
   "metadata": {},
   "outputs": [],
   "source": [
    "import numpy as np\n",
    "import matplotlib.pyplot as plt\n",
    "from matplotlib.table import Table"
   ]
  },
  {
   "cell_type": "code",
   "execution_count": 3,
   "metadata": {},
   "outputs": [],
   "source": [
    "class GridWorld:\n",
    "    def __init__(self, world_size=4, prob=0.25, theta=1e-4, gamma=1.0):\n",
    "        self.world_size = world_size\n",
    "        self.prob = prob\n",
    "        self.gamma = gamma\n",
    "        self.theta = theta\n",
    "    \n",
    "    def reset(self):\n",
    "        self.actions = ['left', 'up', 'right', 'down']\n",
    "        self.move = {'left':np.array([-1, 0]), \n",
    "                     'right':np.array([1, 0]), \n",
    "                     'up':np.array([0, -1]), \n",
    "                     'down':np.array([0, 1])}\n",
    "        self.terminal = [0, 6] # [0, 0], [3, 3]\n",
    "        self.state_values = np.zeros([self.world_size, self.world_size])\n",
    "\n",
    "    def step(self, state, action):\n",
    "        if state[0] + state[1] in self.terminal:\n",
    "            return state, 0\n",
    "        \n",
    "        next_state = state + self.move[action]\n",
    "        x, y = next_state\n",
    "        if x < 0 or x >= self.world_size or y < 0 or y >= self.world_size:\n",
    "            next_state = state\n",
    "        return next_state, -1\n",
    "\n",
    "    def iterate(self, k=np.inf):\n",
    "        delta = 0\n",
    "    \n",
    "        if k == np.inf: \n",
    "            count = 0\n",
    "            while True:\n",
    "                for x in range(self.world_size):\n",
    "                    for y in range(self.world_size):\n",
    "                        value = 0\n",
    "                        old_state_values = self.state_values.copy()\n",
    "                        for action in self.actions:\n",
    "                            (next_x, next_y), reward = self.step(np.array([x, y]), action)\n",
    "                            value += self.prob * (reward + self.gamma * self.state_values[next_x, next_y])\n",
    "                        self.state_values[x, y] = value\n",
    "                        delta = max(delta, abs(old_state_values - self.state_values).max())\n",
    "                        print('\\rdelta: {},\\tcount: {}'.format(delta, count), end='')\n",
    "                if delta < self.theta:\n",
    "                    break\n",
    "                count += 1\n",
    "                \n",
    "                k = count\n",
    "        else:\n",
    "            for _ in range(k):\n",
    "                for x in range(self.world_size):\n",
    "                    for y in range(self.world_size):\n",
    "                        value = 0\n",
    "                        for action in self.actions:\n",
    "                            (next_x, next_y), reward = self.step(np.array([x, y]), action)\n",
    "                            value += self.prob * (reward + self.gamma * self.state_values[next_x, next_y])\n",
    "                        self.state_values[x, y] = value\n",
    "        \n",
    "        return self.state_values, k\n",
    "                  "
   ]
  },
  {
   "cell_type": "code",
   "execution_count": 4,
   "metadata": {},
   "outputs": [],
   "source": [
    "def draw_grid(values):\n",
    "    fig, ax = plt.subplot()\n",
    "    ax.set_axis_off()\n",
    "    tb = Table(ax, bbox=[0, 0, 1, 1])\n",
    "\n",
    "    rows, cols = values.shape\n",
    "    width, height = 1.0 / cols, 1.0 / rows\n",
    "    for (i, j), val in np.ndenumerate(values):\n",
    "        tb.add_cell(i, j, width, height, text=val, loc='center', facecolor='white')\n",
    "    for i in range(len(values)):\n",
    "        tb.add_cell(i, -1, width, height, text=i+1, loc='right', edgecolor='none', facecolor='none')\n",
    "        tb.add_cell(-1, i, width, height/2, text=i+1, loc='center', edgecolor='none', facecolor='none')\n",
    "\n",
    "    ax.add_table(tb)\n",
    "    "
   ]
  },
  {
   "cell_type": "code",
   "execution_count": null,
   "metadata": {},
   "outputs": [],
   "source": [
    "def figure_4_1():\n",
    "    gridworld = GridWorld()\n",
    "    gridworld.reset()\n",
    "    values, k = gridworld.iterate()\n",
    "    draw_grid(values)\n",
    "    print('iterations: ', k)\n",
    "\n",
    "figure_4_1()"
   ]
  },
  {
   "cell_type": "code",
   "execution_count": null,
   "metadata": {},
   "outputs": [],
   "source": []
  }
 ],
 "metadata": {
  "kernelspec": {
   "display_name": "Python 3",
   "language": "python",
   "name": "python3"
  },
  "language_info": {
   "codemirror_mode": {
    "name": "ipython",
    "version": 3
   },
   "file_extension": ".py",
   "mimetype": "text/x-python",
   "name": "python",
   "nbconvert_exporter": "python",
   "pygments_lexer": "ipython3",
   "version": "3.10.6"
  },
  "orig_nbformat": 4,
  "vscode": {
   "interpreter": {
    "hash": "916dbcbb3f70747c44a77c7bcd40155683ae19c65e1c03b4aa3499c5328201f1"
   }
  }
 },
 "nbformat": 4,
 "nbformat_minor": 2
}
