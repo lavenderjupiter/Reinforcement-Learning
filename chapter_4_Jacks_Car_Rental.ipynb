{
 "cells": [
  {
   "cell_type": "code",
   "execution_count": null,
   "metadata": {},
   "outputs": [],
   "source": [
    "import matplotlib.pyplot as plt\n",
    "import numpy as np\n",
    "from matplotlib.pyplot import MultipleLocator\n",
    "import math\n",
    "import seaborn as sns\n",
    "from tqdm import tqdm"
   ]
  },
  {
   "cell_type": "code",
   "execution_count": null,
   "metadata": {},
   "outputs": [],
   "source": [
    "def poisson(exp, n):\n",
    "    return (math.pow(exp, n) / math.factorial(n)) * math.exp(-exp)\n",
    "\n"
   ]
  },
  {
   "cell_type": "code",
   "execution_count": null,
   "metadata": {},
   "outputs": [],
   "source": []
  },
  {
   "cell_type": "code",
   "execution_count": null,
   "metadata": {},
   "outputs": [],
   "source": [
    "class CarRental:\n",
    "    def __init__(self, max_car=20, max_move=5, cost=2, reward=10, cost_parking=0,\n",
    "                rent_exp_first_loc=3, rent_exp_second_loc=4, return_exp_first_loc=3, return_exp_second_loc=2, gamma=0.9, theta=0.01):\n",
    "        self.max_car = max_car\n",
    "        self.max_move = max_move\n",
    "        self.reward = reward\n",
    "        self.cost = cost \n",
    "        self.cost_parking = cost_parking # exercise 4.7\n",
    "        self.rent_exp_first_loc = rent_exp_first_loc\n",
    "        self.rent_exp_second_loc = rent_exp_second_loc\n",
    "        self.return_exp_first_loc = return_exp_first_loc\n",
    "        self.return_exp_second_loc = return_exp_second_loc\n",
    "        self.gamma = gamma\n",
    "        self.theta = theta\n",
    "\n",
    "    def reset(self):\n",
    "        self.actions = np.arange(-5, 6) # numer of cars moved from location 1 to location 2\n",
    "        self.state_values =  np.zeros(self.max_car + 1, self.max_car + 1)\n",
    "        self.policy = np.zeros(self.max_car + 1, self.max_car + 1, dtype=int)\n",
    "        self.policies = []\n",
    "\n",
    "    def get_action_space(self, state):\n",
    "        first_cars, second_cars = state\n",
    "        actions = [0]\n",
    "\n",
    "        for action in self.actions:\n",
    "            new_first_cars, new_second_cars = first_cars - action, second_cars + action\n",
    "            if new_first_cars >=0 and new_first_cars <= self.max_car and new_second_cars >=0 and new_second_cars <= self.max_car:\n",
    "                actions.append(action)\n",
    "        return set(actions) # return possible actions\n",
    "\n",
    "    def step(self, action):\n",
    "\n",
    "\n",
    "\n",
    "\n"
   ]
  }
 ],
 "metadata": {
  "kernelspec": {
   "display_name": "Python 3",
   "language": "python",
   "name": "python3"
  },
  "language_info": {
   "codemirror_mode": {
    "name": "ipython",
    "version": 3
   },
   "file_extension": ".py",
   "mimetype": "text/x-python",
   "name": "python",
   "nbconvert_exporter": "python",
   "pygments_lexer": "ipython3",
   "version": "3.10.6"
  },
  "orig_nbformat": 4,
  "vscode": {
   "interpreter": {
    "hash": "916dbcbb3f70747c44a77c7bcd40155683ae19c65e1c03b4aa3499c5328201f1"
   }
  }
 },
 "nbformat": 4,
 "nbformat_minor": 2
}
